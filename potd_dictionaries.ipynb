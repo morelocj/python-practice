{
 "cells": [
  {
   "cell_type": "code",
   "execution_count": null,
   "metadata": {},
   "outputs": [],
   "source": [
    "1. Write a Python script to sort (ascending and descending) a dictionary by value."
   ]
  },
  {
   "cell_type": "code",
   "execution_count": 1,
   "metadata": {},
   "outputs": [
    {
     "name": "stdout",
     "output_type": "stream",
     "text": [
      "{'Thursday': 10, 'Wednesday': 20, 'Monday': 40, 'Tuesday': 50}\n",
      "{'Tuesday': 50, 'Monday': 40, 'Wednesday': 20, 'Thursday': 10}\n"
     ]
    }
   ],
   "source": [
    "sd = {\n",
    "    'Monday':40, \n",
    "    'Tuesday':50,\n",
    "    'Wednesday':20, \n",
    "    'Thursday':10,\n",
    "    }\n",
    "sd2 = {}\n",
    "listed = []\n",
    "\n",
    "for key, value in sd.items():\n",
    "    listed.append((value,key))\n",
    "    listed.sort()\n",
    "for i in listed:\n",
    "    tupled = i\n",
    "    day = tupled[1]\n",
    "    num = tupled[0]\n",
    "    sd2[day] = num\n",
    "print(sd2)\n",
    "\n",
    "# above is ascending. below is descending.\n",
    "\n",
    "sd2 = {}\n",
    "listed = []\n",
    "\n",
    "for key, value in sd.items():\n",
    "    listed.append((value,key))\n",
    "    listed.sort(reverse = True)\n",
    "for i in listed:\n",
    "    tupled = i\n",
    "    day = tupled[1]\n",
    "    num = tupled[0]\n",
    "    sd2[day] = num\n",
    "print(sd2)"
   ]
  },
  {
   "attachments": {},
   "cell_type": "markdown",
   "metadata": {},
   "source": [
    "2. Write a Python script to add a key to a dictionary."
   ]
  },
  {
   "cell_type": "code",
   "execution_count": 2,
   "metadata": {},
   "outputs": [
    {
     "name": "stdout",
     "output_type": "stream",
     "text": [
      "{'Tuesday': 50, 'Monday': 40, 'Wednesday': 20, 'Thursday': 10, 'Friday': None}\n"
     ]
    }
   ],
   "source": [
    "sd2['Friday'] = None\n",
    "print(sd2)"
   ]
  },
  {
   "attachments": {},
   "cell_type": "markdown",
   "metadata": {},
   "source": [
    "3. Write a Python script to concatenate following dictionaries to create a new one.\n",
    "Sample Dictionary :\n",
    "dic1={1:10, 2:20}\n",
    "dic2={3:30, 4:40}\n",
    "dic3={5:50,6:60}"
   ]
  },
  {
   "cell_type": "code",
   "execution_count": 3,
   "metadata": {},
   "outputs": [
    {
     "name": "stdout",
     "output_type": "stream",
     "text": [
      "{1: 10, 2: 20, 3: 30, 4: 40, 5: 50, 6: 60}\n"
     ]
    }
   ],
   "source": [
    "dic1={1:10, 2:20}\n",
    "dic2={3:30, 4:40}\n",
    "dic3={5:50,6:60}\n",
    "dic_cat = {}\n",
    "list_k = []\n",
    "list_v = []\n",
    "for key, value in dic1.items():\n",
    "    list_k.append(key)\n",
    "    list_v.append(value)\n",
    "for key, value in dic2.items():\n",
    "    list_k.append(key)\n",
    "    list_v.append(value)\n",
    "for key, value in dic3.items():\n",
    "    list_k.append(key)\n",
    "    list_v.append(value)\n",
    "for i in list_k[:]:\n",
    "    zero = list_v[0] \n",
    "    dic_cat[i] = zero\n",
    "    list_v.remove(zero)\n",
    "print(dic_cat)\n",
    "\n",
    "    \n",
    "\n"
   ]
  },
  {
   "attachments": {},
   "cell_type": "markdown",
   "metadata": {},
   "source": [
    "4. Write a Python script to check whether a given key already exists in a dictionary."
   ]
  },
  {
   "cell_type": "code",
   "execution_count": 4,
   "metadata": {},
   "outputs": [
    {
     "data": {
      "text/plain": [
       "False"
      ]
     },
     "execution_count": 4,
     "metadata": {},
     "output_type": "execute_result"
    }
   ],
   "source": [
    "def check_key(key, dict):\n",
    "    return key in dict\n",
    "\n",
    "check_key('water',sd2)"
   ]
  },
  {
   "attachments": {},
   "cell_type": "markdown",
   "metadata": {},
   "source": [
    "5. Write a Python program to iterate over dictionaries using for loops."
   ]
  },
  {
   "cell_type": "code",
   "execution_count": 5,
   "metadata": {},
   "outputs": [
    {
     "data": {
      "text/plain": [
       "(['Tuesday', 'Monday', 'Wednesday', 'Thursday', 'Friday'],\n",
       " [50, 40, 20, 10, None])"
      ]
     },
     "execution_count": 5,
     "metadata": {},
     "output_type": "execute_result"
    }
   ],
   "source": [
    "def iter_dict(dict):\n",
    "    keys = []\n",
    "    values = []\n",
    "    ret_dict = {}\n",
    "    for key, value in dict.items():\n",
    "        keys.append(key)\n",
    "        values.append(value)\n",
    "    return keys, values\n",
    "\n",
    "iter_dict(sd2)\n",
    "# or it could do something else to the dictionary\n"
   ]
  }
 ],
 "metadata": {
  "kernelspec": {
   "display_name": "Python 3",
   "language": "python",
   "name": "python3"
  },
  "language_info": {
   "codemirror_mode": {
    "name": "ipython",
    "version": 3
   },
   "file_extension": ".py",
   "mimetype": "text/x-python",
   "name": "python",
   "nbconvert_exporter": "python",
   "pygments_lexer": "ipython3",
   "version": "3.11.0"
  },
  "orig_nbformat": 4,
  "vscode": {
   "interpreter": {
    "hash": "aefd69111f9c76c9ecd068af2a7d377a958ad2aaf2a9c23a14839e8171832a79"
   }
  }
 },
 "nbformat": 4,
 "nbformat_minor": 2
}
