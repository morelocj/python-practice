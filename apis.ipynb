{
 "cells": [
  {
   "cell_type": "code",
   "execution_count": 2,
   "metadata": {},
   "outputs": [],
   "source": [
    "import requests\n",
    "import json\n",
    "from pprint import pp"
   ]
  },
  {
   "cell_type": "code",
   "execution_count": null,
   "metadata": {},
   "outputs": [],
   "source": [
    "api_url = \"https://jsonplaceholder.typicode.com/todos/1\"\n",
    "response = requests.get(api_url)\n",
    "# r = response.json()\n",
    "# print(r)\n",
    "# pp(r)\n",
    "print(response.json())\n",
    "print(response.status_code)\n",
    "print(response.headers)\n",
    "print(response.headers[\"Content-Type\"])"
   ]
  },
  {
   "attachments": {},
   "cell_type": "markdown",
   "metadata": {},
   "source": [
    "GET Request (above)\n",
    "POST Request (below)"
   ]
  },
  {
   "cell_type": "code",
   "execution_count": 3,
   "metadata": {},
   "outputs": [
    {
     "name": "stdout",
     "output_type": "stream",
     "text": [
      "201\n",
      "{'userId': 1, 'title': 'Buy milk', 'completed': False, 'id': 201}\n",
      "{'userId': 1, 'title': 'Buy milk', 'completed': False, 'id': 201}\n",
      "201\n"
     ]
    }
   ],
   "source": [
    "api_url = \"https://jsonplaceholder.typicode.com/todos\"\n",
    "todo = {\"userId\": 1, \"title\": \"Buy milk\", \"completed\": False}\n",
    "response = requests.post(api_url, json=todo)\n",
    "print(response.status_code)\n",
    "print(response.json())\n",
    "\n",
    "# alternate:\n",
    "api_url = \"https://jsonplaceholder.typicode.com/todos\"\n",
    "todo = {\"userId\": 1, \"title\": \"Buy milk\", \"completed\": False}\n",
    "headers =  {\"Content-Type\":\"application/json\"}\n",
    "response = requests.post(api_url, data=json.dumps(todo), headers=headers)\n",
    "print(response.json())\n",
    "print(response.status_code)"
   ]
  },
  {
   "attachments": {},
   "cell_type": "markdown",
   "metadata": {},
   "source": [
    "PUT Requests"
   ]
  },
  {
   "cell_type": "code",
   "execution_count": 4,
   "metadata": {},
   "outputs": [
    {
     "name": "stdout",
     "output_type": "stream",
     "text": [
      "{'userId': 1, 'id': 10, 'title': 'illo est ratione doloremque quia maiores aut', 'completed': True}\n",
      "{'userId': 1, 'title': 'Wash car', 'completed': True, 'id': 10}\n",
      "200\n"
     ]
    }
   ],
   "source": [
    "api_url = \"https://jsonplaceholder.typicode.com/todos/10\"\n",
    "response = requests.get(api_url)\n",
    "print(response.json())\n",
    "\n",
    "todo = {\"userId\": 1, \"title\": \"Wash car\", \"completed\": True}\n",
    "response = requests.put(api_url, json=todo)\n",
    "print(response.json())\n",
    "print(response.status_code)"
   ]
  },
  {
   "attachments": {},
   "cell_type": "markdown",
   "metadata": {},
   "source": [
    "PATCH Request"
   ]
  },
  {
   "cell_type": "code",
   "execution_count": 5,
   "metadata": {},
   "outputs": [
    {
     "name": "stdout",
     "output_type": "stream",
     "text": [
      "{'userId': 1, 'id': 10, 'title': 'Mow lawn', 'completed': True}\n",
      "200\n"
     ]
    }
   ],
   "source": [
    "todo = {\"title\": \"Mow lawn\"}\n",
    "response = requests.patch(api_url, json=todo)\n",
    "print(response.json())\n",
    "print(response.status_code)"
   ]
  },
  {
   "attachments": {},
   "cell_type": "markdown",
   "metadata": {},
   "source": [
    "DELETE Request"
   ]
  },
  {
   "cell_type": "code",
   "execution_count": 6,
   "metadata": {},
   "outputs": [
    {
     "name": "stdout",
     "output_type": "stream",
     "text": [
      "{}\n",
      "200\n"
     ]
    }
   ],
   "source": [
    "response = requests.delete(api_url)\n",
    "print(response.json())\n",
    "print(response.status_code)"
   ]
  },
  {
   "attachments": {},
   "cell_type": "markdown",
   "metadata": {},
   "source": [
    "Example"
   ]
  },
  {
   "cell_type": "code",
   "execution_count": 7,
   "metadata": {},
   "outputs": [
    {
     "name": "stdout",
     "output_type": "stream",
     "text": [
      "200\n",
      "{'message': 'success',\n",
      " 'people': [{'name': 'Sergey Prokopyev', 'craft': 'ISS'},\n",
      "            {'name': 'Dmitry Petelin', 'craft': 'ISS'},\n",
      "            {'name': 'Frank Rubio', 'craft': 'ISS'},\n",
      "            {'name': 'Nicole Mann', 'craft': 'ISS'},\n",
      "            {'name': 'Josh Cassada', 'craft': 'ISS'},\n",
      "            {'name': 'Koichi Wakata', 'craft': 'ISS'},\n",
      "            {'name': 'Anna Kikina', 'craft': 'ISS'},\n",
      "            {'name': 'Fei Junlong', 'craft': 'Shenzhou 15'},\n",
      "            {'name': 'Deng Qingming', 'craft': 'Shenzhou 15'},\n",
      "            {'name': 'Zhang Lu', 'craft': 'Shenzhou 15'}],\n",
      " 'number': 10}\n"
     ]
    }
   ],
   "source": [
    "response = requests.get(\"http://api.open-notify.org/astros.json\")\n",
    "print(response.status_code)\n",
    "pp(response.json())"
   ]
  },
  {
   "attachments": {},
   "cell_type": "markdown",
   "metadata": {},
   "source": [
    "Practice example with people in space: \n",
    "1. We need to access our people key from our outer dictionary only. Maybe there is a way that I can save the people key values into its own variable.\n",
    "2. We need to loop through our list of dictionaries. \n",
    "3. At each pass of the for loop, we need to access the name key and somehow capture the value. Here we can determine if we want to print it on each loop, or do we want to capture it in a variable, and just print it at the end all together?"
   ]
  },
  {
   "cell_type": "code",
   "execution_count": 12,
   "metadata": {},
   "outputs": [
    {
     "name": "stdout",
     "output_type": "stream",
     "text": [
      "200\n",
      "{'message': 'success',\n",
      " 'people': [{'name': 'Sergey Prokopyev', 'craft': 'ISS'},\n",
      "            {'name': 'Dmitry Petelin', 'craft': 'ISS'},\n",
      "            {'name': 'Frank Rubio', 'craft': 'ISS'},\n",
      "            {'name': 'Nicole Mann', 'craft': 'ISS'},\n",
      "            {'name': 'Josh Cassada', 'craft': 'ISS'},\n",
      "            {'name': 'Koichi Wakata', 'craft': 'ISS'},\n",
      "            {'name': 'Anna Kikina', 'craft': 'ISS'},\n",
      "            {'name': 'Fei Junlong', 'craft': 'Shenzhou 15'},\n",
      "            {'name': 'Deng Qingming', 'craft': 'Shenzhou 15'},\n",
      "            {'name': 'Zhang Lu', 'craft': 'Shenzhou 15'}],\n",
      " 'number': 10}\n",
      "[{'name': 'Sergey Prokopyev', 'craft': 'ISS'}, {'name': 'Dmitry Petelin', 'craft': 'ISS'}, {'name': 'Frank Rubio', 'craft': 'ISS'}, {'name': 'Nicole Mann', 'craft': 'ISS'}, {'name': 'Josh Cassada', 'craft': 'ISS'}, {'name': 'Koichi Wakata', 'craft': 'ISS'}, {'name': 'Anna Kikina', 'craft': 'ISS'}, {'name': 'Fei Junlong', 'craft': 'Shenzhou 15'}, {'name': 'Deng Qingming', 'craft': 'Shenzhou 15'}, {'name': 'Zhang Lu', 'craft': 'Shenzhou 15'}]\n",
      "Sergey Prokopyev\n",
      "Dmitry Petelin\n",
      "Frank Rubio\n",
      "Nicole Mann\n",
      "Josh Cassada\n",
      "Koichi Wakata\n",
      "Anna Kikina\n",
      "Fei Junlong\n",
      "Deng Qingming\n",
      "Zhang Lu\n",
      "['Sergey Prokopyev', 'Dmitry Petelin', 'Frank Rubio', 'Nicole Mann', 'Josh Cassada', 'Koichi Wakata', 'Anna Kikina', 'Fei Junlong', 'Deng Qingming', 'Zhang Lu']\n"
     ]
    }
   ],
   "source": [
    "response = requests.get(\"http://api.open-notify.org/astros.json\")\n",
    "print(response.status_code)\n",
    "pp(response.json())\n",
    "\n",
    "# completing (1)\n",
    "r = response.json()\n",
    "people = r['people']\n",
    "# the new people variable is the value associated with the 'people' key. \n",
    "# The value turns out to be a list of dictionaries. \n",
    "# So the new people variable is a list of dictionaries.\n",
    "\n",
    "print(people)\n",
    "\n",
    "# completing (2,3)\n",
    "for person in people:\n",
    "    print(person['name'])\n",
    "\n",
    "# as in HackerRank, you have to return a list, not print them one at a time\n",
    "def get_names():\n",
    "    names = []\n",
    "    for person in people:\n",
    "        names.append(person['name'])\n",
    "    return names\n",
    "# call the function if warranted\n",
    "get_names()\n",
    "\n",
    "# or save it in a variable to print\n",
    "name_list = get_names()\n",
    "print(name_list)"
   ]
  }
 ],
 "metadata": {
  "kernelspec": {
   "display_name": "Python 3",
   "language": "python",
   "name": "python3"
  },
  "language_info": {
   "codemirror_mode": {
    "name": "ipython",
    "version": 3
   },
   "file_extension": ".py",
   "mimetype": "text/x-python",
   "name": "python",
   "nbconvert_exporter": "python",
   "pygments_lexer": "ipython3",
   "version": "3.11.0"
  },
  "orig_nbformat": 4,
  "vscode": {
   "interpreter": {
    "hash": "aefd69111f9c76c9ecd068af2a7d377a958ad2aaf2a9c23a14839e8171832a79"
   }
  }
 },
 "nbformat": 4,
 "nbformat_minor": 2
}
