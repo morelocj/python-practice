{
 "cells": [
  {
   "cell_type": "code",
   "execution_count": 2,
   "metadata": {},
   "outputs": [],
   "source": [
    "import mysql.connector as mariadb"
   ]
  },
  {
   "cell_type": "code",
   "execution_count": 9,
   "metadata": {},
   "outputs": [
    {
     "name": "stdout",
     "output_type": "stream",
     "text": [
      "connected to test_db\n",
      "got it\n"
     ]
    }
   ],
   "source": [
    "def generate_user_table():\n",
    "    con = mariadb.connect(\n",
    "        host = \"localhost\",\n",
    "        user = 'root',\n",
    "        password = 'password',\n",
    "        database = 'test_db'\n",
    "    )\n",
    "    print(\"connected to test_db\")\n",
    "    cur = con.cursor()\n",
    "    st1 = \"create table user_table2(email varchar(100), \\\n",
    "        name varchar(50), \\\n",
    "        password varchar(30))\"\n",
    "    st2 = \"INSERT INTO user_table2 \\\n",
    "            (email, name, password) VALUES \\\n",
    "            ('ywbaek@perscholas.org', 'young', 'letsgomets'), \\\n",
    "            ('mcordon@perscholas.org', 'marcial', 'perscholas'), \\\n",
    "            ('mhaseeb@perscholas.org', 'haseeb', 'platform')\"\n",
    "    cur.execute(st1)\n",
    "    cur.execute(st2)\n",
    "    print(\"got it\")\n",
    "    con.commit()\n",
    "    con.close()\n",
    "generate_user_table()"
   ]
  },
  {
   "cell_type": "code",
   "execution_count": 3,
   "metadata": {},
   "outputs": [
    {
     "name": "stdout",
     "output_type": "stream",
     "text": [
      "connected to test_db\n",
      "[('ywbaek@perscholas.org', 'young', 'letsgomets'), ('mcordon@perscholas.org', 'marcial', 'perscholas'), ('mhaseeb@perscholas.org', 'haseeb', 'platform')]\n"
     ]
    }
   ],
   "source": [
    "def get_all_users():\n",
    "    con = mariadb.connect(\n",
    "        host = \"localhost\",\n",
    "        user = 'root',\n",
    "        password = 'password',\n",
    "        database = 'test_db'\n",
    "    )\n",
    "    print(\"connected to test_db\")\n",
    "    cur = con.cursor()\n",
    "    st = \"SELECT * FROM user_table2\"\n",
    "    cur.execute(st)\n",
    "    result = cur.fetchall()\n",
    "    print(result)\n",
    "    con.close()\n",
    "get_all_users()"
   ]
  },
  {
   "cell_type": "code",
   "execution_count": 13,
   "metadata": {},
   "outputs": [
    {
     "name": "stdout",
     "output_type": "stream",
     "text": [
      "connected to test_db\n",
      "[('ywbaek@perscholas.org', 'letsgomets')]\n"
     ]
    }
   ],
   "source": [
    "def get_user_by_name(name):\n",
    "    con = mariadb.connect(\n",
    "        host = \"localhost\",\n",
    "        user = 'root',\n",
    "        password = 'password',\n",
    "        database = 'test_db'\n",
    "    )\n",
    "    print(\"connected to test_db\")\n",
    "    cur = con.cursor()\n",
    "    st = f\"SELECT email, password FROM user_table2 WHERE name = '{name}'\"\n",
    "    cur.execute(st) \n",
    "    result = cur.fetchall()\n",
    "    print(result)\n",
    "    con.close()\n",
    "get_user_by_name('young')"
   ]
  },
  {
   "cell_type": "code",
   "execution_count": 36,
   "metadata": {},
   "outputs": [
    {
     "name": "stdout",
     "output_type": "stream",
     "text": [
      "connected to test_db\n"
     ]
    },
    {
     "data": {
      "text/plain": [
       "True"
      ]
     },
     "execution_count": 36,
     "metadata": {},
     "output_type": "execute_result"
    }
   ],
   "source": [
    "def validate_user(email, password):\n",
    "    con = mariadb.connect(\n",
    "        host = \"localhost\",\n",
    "        user = 'root',\n",
    "        password = 'password',\n",
    "        database = 'test_db'\n",
    "    )\n",
    "    print(\"connected to test_db\")\n",
    "    cur = con.cursor()\n",
    "    st = f\"SELECT email, password FROM user_table2 WHERE email = '{email}' and password = '{password}'\"\n",
    "    cur.execute(st) \n",
    "    answer = cur.fetchall()\n",
    "    result = True\n",
    "    if answer == []:\n",
    "        result = False\n",
    "    con.close()\n",
    "    return result\n",
    "validate_user('ywbaek@perscholas.org', 'letsgomets')"
   ]
  },
  {
   "attachments": {},
   "cell_type": "markdown",
   "metadata": {},
   "source": [
    "6."
   ]
  },
  {
   "cell_type": "code",
   "execution_count": 4,
   "metadata": {},
   "outputs": [
    {
     "name": "stdout",
     "output_type": "stream",
     "text": [
      "connected to test_db\n"
     ]
    },
    {
     "data": {
      "text/plain": [
       "True"
      ]
     },
     "execution_count": 4,
     "metadata": {},
     "output_type": "execute_result"
    }
   ],
   "source": [
    "def update_user(email, name, password):\n",
    "    con = mariadb.connect(\n",
    "        host = \"localhost\",\n",
    "        user = 'root',\n",
    "        password = 'password',\n",
    "        database = 'test_db'\n",
    "    )\n",
    "    print(\"connected to test_db\")\n",
    "    cur = con.cursor()\n",
    "    st1 = f\"SELECT * From user_table2 WHERE email = '{email}'\"\n",
    "    cur.execute(st1)\n",
    "    result = cur.fetchall()\n",
    "    if result != []:\n",
    "        st2 = f\"update user_table2 \\\n",
    "        SET name = '{name}' and password = '{password}' \\\n",
    "            WHERE email = '{email}'\"\n",
    "        con.commit()\n",
    "        return True\n",
    "    if result == []:\n",
    "        return False\n",
    "update_user('ywbaek@perscholas.org', 'Lucy', 'letitgo')\n"
   ]
  }
 ],
 "metadata": {
  "kernelspec": {
   "display_name": "Python 3",
   "language": "python",
   "name": "python3"
  },
  "language_info": {
   "codemirror_mode": {
    "name": "ipython",
    "version": 3
   },
   "file_extension": ".py",
   "mimetype": "text/x-python",
   "name": "python",
   "nbconvert_exporter": "python",
   "pygments_lexer": "ipython3",
   "version": "3.11.0"
  },
  "orig_nbformat": 4,
  "vscode": {
   "interpreter": {
    "hash": "aefd69111f9c76c9ecd068af2a7d377a958ad2aaf2a9c23a14839e8171832a79"
   }
  }
 },
 "nbformat": 4,
 "nbformat_minor": 2
}
