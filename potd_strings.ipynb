{
 "cells": [
  {
   "attachments": {},
   "cell_type": "markdown",
   "metadata": {},
   "source": [
    "2023-01-10 Problem of the Day\n",
    "Python Data Type: String -\n",
    "Python has a built-in string class named \"str\" with many useful features. String literals can be enclosed by either single or double, although single quotes are more commonly used.\n",
    "1. Write a Python program to calculate the length of a string.\n",
    "2. Write a Python program to count the number of characters (character frequency) in a string.\n",
    "Sample String : google.com'\n",
    "Expected Result : {'g': 2, 'o': 3, 'l': 1, 'e': 1, '.': 1, 'c': 1, 'm': 1}\n",
    "3. Write a Python program to get a string made of the first 2 and the last 2 chars from a given a string. If the string length is less than 2, return instead of the empty string.\n",
    "Sample String : 'w3resource'\n",
    "Expected Result : 'w3ce'\n",
    "Sample String : 'w3'\n",
    "Expected Result : 'w3w3'\n",
    "Sample String : ' w'\n",
    "Expected Result : Empty String\n",
    "4. Write a Python program to get a string from a given string where all occurrences of its first char have been changed to '$', except the first char itself.\n",
    "Sample String : 'restart'\n",
    "Expected Result : 'resta$t'\n",
    "5. Write a Python program to get a single string from two given strings, separated by a space and swap the first two characters of each string.\n",
    "Sample String : 'abc', 'xyz'\n",
    "Expected Result : 'xyc abz'"
   ]
  },
  {
   "attachments": {},
   "cell_type": "markdown",
   "metadata": {},
   "source": [
    "1. Write a Python program to calculate the length of a string."
   ]
  },
  {
   "cell_type": "code",
   "execution_count": 1,
   "metadata": {},
   "outputs": [
    {
     "data": {
      "text/plain": [
       "5"
      ]
     },
     "execution_count": 1,
     "metadata": {},
     "output_type": "execute_result"
    }
   ],
   "source": [
    "def str_length(str):\n",
    "    return len(str)\n",
    "str_length('this?')"
   ]
  },
  {
   "attachments": {},
   "cell_type": "markdown",
   "metadata": {},
   "source": [
    "2. Write a Python program to count the number of characters (character frequency) in a string.\n",
    "Sample String : google.com'\n",
    "Expected Result : {'g': 2, 'o': 3, 'l': 1, 'e': 1, '.': 1, 'c': 1, 'm': 1}"
   ]
  }
 ],
 "metadata": {
  "kernelspec": {
   "display_name": "Python 3",
   "language": "python",
   "name": "python3"
  },
  "language_info": {
   "codemirror_mode": {
    "name": "ipython",
    "version": 3
   },
   "file_extension": ".py",
   "mimetype": "text/x-python",
   "name": "python",
   "nbconvert_exporter": "python",
   "pygments_lexer": "ipython3",
   "version": "3.11.0"
  },
  "orig_nbformat": 4,
  "vscode": {
   "interpreter": {
    "hash": "aefd69111f9c76c9ecd068af2a7d377a958ad2aaf2a9c23a14839e8171832a79"
   }
  }
 },
 "nbformat": 4,
 "nbformat_minor": 2
}
